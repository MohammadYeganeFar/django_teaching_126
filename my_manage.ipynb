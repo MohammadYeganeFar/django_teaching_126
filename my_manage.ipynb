{
 "cells": [
  {
   "cell_type": "code",
   "execution_count": null,
   "metadata": {},
   "outputs": [],
   "source": [
    "# one\n",
    "import os\n",
    "import asyncio\n",
    "from django import setup\n",
    "from django.db import models\n",
    "from asgiref.sync import sync_to_async\n",
    "\n",
    "os.environ.setdefault('DJANGO_SETTINGS_MODULE', 'maktab_django_126.settings')\n",
    "os.environ[\"DJANGO_ALLOW_ASYNC_UNSAFE\"] = \"true\"\n",
    "setup()\n",
    "\n",
    "from first_app.models import *\n",
    "a = BlogPost.objects.aggregate(diff=(models.Max('num_likes', ) - models.Avg('num_likes')))\n",
    "print(a)\n",
    "\n",
    "\n"
   ]
  },
  {
   "cell_type": "code",
   "execution_count": 4,
   "metadata": {},
   "outputs": [
    {
     "name": "stdout",
     "output_type": "stream",
     "text": [
      "id: 2 | name: mmd yegane | blogs number: 4\n",
      "id: 2 | name: mmd yegane | blogs number: 5\n",
      "id: 3 | name: abbas farhi | blogs number: 11\n"
     ]
    }
   ],
   "source": [
    "# two\n",
    "import os\n",
    "import asyncio\n",
    "from django import setup\n",
    "from django.db import models\n",
    "\n",
    "from django.db.models import Count\n",
    "from asgiref.sync import sync_to_async\n",
    "\n",
    "os.environ.setdefault('DJANGO_SETTINGS_MODULE', 'maktab_django_126.settings')\n",
    "os.environ[\"DJANGO_ALLOW_ASYNC_UNSAFE\"] = \"true\"\n",
    "setup()\n",
    "\n",
    "from first_app.models import *\n",
    "q = PostAuthor.objects.annotate(num_blogs=Count('blogpost'))\n",
    "for i in q:\n",
    "    print(f\"id: {i.id} | name: {i.full_name} | blogs number: {i.num_blogs}\")\n"
   ]
  },
  {
   "cell_type": "code",
   "execution_count": 2,
   "metadata": {},
   "outputs": [],
   "source": [
    "import os\n",
    "import asyncio\n",
    "from django import setup\n",
    "from django.db import models\n",
    "from asgiref.sync import sync_to_async\n",
    "\n",
    "os.environ.setdefault('DJANGO_SETTINGS_MODULE', 'maktab_django_126.settings')\n",
    "os.environ[\"DJANGO_ALLOW_ASYNC_UNSAFE\"] = \"true\"\n",
    "setup()\n",
    "\n",
    "from first_app.models import *\n",
    "# PostAuthor.objects.create(first_name='abbas', last_name='farhi')\n",
    "# BlogPost.objects.create(title='how to run')\n",
    "b = BlogPost.objects.get(title='how to run')\n",
    "b.authors.set([PostAuthor.objects.get(id=3)]) # PostAuthor.objects.get(id=3)"
   ]
  }
 ],
 "metadata": {
  "kernelspec": {
   "display_name": ".venv",
   "language": "python",
   "name": "python3"
  },
  "language_info": {
   "codemirror_mode": {
    "name": "ipython",
    "version": 3
   },
   "file_extension": ".py",
   "mimetype": "text/x-python",
   "name": "python",
   "nbconvert_exporter": "python",
   "pygments_lexer": "ipython3",
   "version": "3.13.0"
  },
  "orig_nbformat": 4
 },
 "nbformat": 4,
 "nbformat_minor": 2
}
