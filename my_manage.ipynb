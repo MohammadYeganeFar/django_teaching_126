{
 "cells": [
  {
   "cell_type": "code",
   "execution_count": 2,
   "metadata": {},
   "outputs": [
    {
     "data": {
      "text/plain": [
       "<QuerySet [<BlogPost: A Beginner's Guide to Meditation>, <BlogPost: The Science Behind Healthy Eating>, <BlogPost: Exploring the World of Digital Marketing>, <BlogPost: The Power of Positive Thinking>, <BlogPost: The Ultimate Guide to Productivity Hacks>, <BlogPost: Unlocking the Secrets of Successful Networking>, <BlogPost: 6v08Iep7>, <BlogPost: 59ig27NM>, <BlogPost: igLjf2QP>, <BlogPost: Lc2Lo404>, <BlogPost: 2YyfRKTw>, <BlogPost: A7ny4lLn>, <BlogPost: KvkPvyF4>, <BlogPost: x9v1Y54W>, <BlogPost: UnV0maN7>, <BlogPost: YfvEA7h8>, <BlogPost: 76fnmMZV>, <BlogPost: 9lt5kRNo>, <BlogPost: 5oJfvj63>, <BlogPost: 6v16z6L8>, '...(remaining elements truncated)...']>"
      ]
     },
     "execution_count": 2,
     "metadata": {},
     "output_type": "execute_result"
    }
   ],
   "source": [
    "# one\n",
    "import os\n",
    "import asyncio\n",
    "from django import setup\n",
    "from django.db import models\n",
    "from asgiref.sync import sync_to_async\n",
    "\n",
    "os.environ.setdefault('DJANGO_SETTINGS_MODULE', 'maktab_django_126.settings')\n",
    "os.environ[\"DJANGO_ALLOW_ASYNC_UNSAFE\"] = \"true\"\n",
    "setup()\n",
    "\n",
    "from first_app.models import *\n",
    "#type(BlogPost.objects.all())\n",
    "BlogPost.objects.all()\n",
    "\n",
    "\n"
   ]
  },
  {
   "cell_type": "code",
   "execution_count": 4,
   "metadata": {},
   "outputs": [
    {
     "name": "stdout",
     "output_type": "stream",
     "text": [
      "id: 2 | name: mmd yegane | blogs number: 4\n",
      "id: 2 | name: mmd yegane | blogs number: 5\n",
      "id: 3 | name: abbas farhi | blogs number: 11\n"
     ]
    }
   ],
   "source": [
    "# two\n",
    "import os\n",
    "import asyncio\n",
    "from django import setup\n",
    "from django.db import models\n",
    "\n",
    "from django.db.models import Count\n",
    "from asgiref.sync import sync_to_async\n",
    "\n",
    "os.environ.setdefault('DJANGO_SETTINGS_MODULE', 'maktab_django_126.settings')\n",
    "os.environ[\"DJANGO_ALLOW_ASYNC_UNSAFE\"] = \"true\"\n",
    "setup()\n",
    "\n",
    "from first_app.models import *\n",
    "q = PostAuthor.objects.annotate(num_blogs=Count('blogpost'))\n",
    "for i in q:\n",
    "    print(f\"id: {i.id} | name: {i.full_name} | blogs number: {i.num_blogs}\")\n"
   ]
  },
  {
   "cell_type": "code",
   "execution_count": 2,
   "metadata": {},
   "outputs": [],
   "source": [
    "import os\n",
    "import asyncio\n",
    "from django import setup\n",
    "from django.db import models\n",
    "from asgiref.sync import sync_to_async\n",
    "\n",
    "os.environ.setdefault('DJANGO_SETTINGS_MODULE', 'maktab_django_126.settings')\n",
    "os.environ[\"DJANGO_ALLOW_ASYNC_UNSAFE\"] = \"true\"\n",
    "setup()\n",
    "\n",
    "from first_app.models import *\n",
    "# PostAuthor.objects.create(first_name='abbas', last_name='farhi')\n",
    "# BlogPost.objects.create(title='how to run')\n",
    "b = BlogPost.objects.get(title='how to run')\n",
    "b.authors.set([PostAuthor.objects.get(id=3)]) # PostAuthor.objects.get(id=3)"
   ]
  }
 ],
 "metadata": {
  "kernelspec": {
   "display_name": ".venv",
   "language": "python",
   "name": "python3"
  },
  "language_info": {
   "codemirror_mode": {
    "name": "ipython",
    "version": 3
   },
   "file_extension": ".py",
   "mimetype": "text/x-python",
   "name": "python",
   "nbconvert_exporter": "python",
   "pygments_lexer": "ipython3",
   "version": "3.12.3"
  },
  "orig_nbformat": 4
 },
 "nbformat": 4,
 "nbformat_minor": 2
}
